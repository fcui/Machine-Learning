{
 "cells": [
  {
   "cell_type": "code",
   "execution_count": 5,
   "metadata": {},
   "outputs": [
    {
     "name": "stdout",
     "output_type": "stream",
     "text": [
      "no. of Chris training emails: 7936\n",
      "no. of Sara training emails: 7884\n"
     ]
    }
   ],
   "source": [
    "#!/usr/bin/python\n",
    "\n",
    "\"\"\" \n",
    "    This is the code to accompany the Lesson 2 (SVM) mini-project.\n",
    "\n",
    "    Use a SVM to identify emails from the Enron corpus by their authors:    \n",
    "    Sara has label 0\n",
    "    Chris has label 1\n",
    "\"\"\"\n",
    "    \n",
    "import sys\n",
    "from time import time\n",
    "sys.path.append(\"../tools/\")\n",
    "from email_preprocess import preprocess\n",
    "from sklearn import svm\n",
    "\n",
    "\n",
    "features_train, features_test, labels_train, labels_test = preprocess()"
   ]
  },
  {
   "cell_type": "code",
   "execution_count": 6,
   "metadata": {},
   "outputs": [
    {
     "name": "stdout",
     "output_type": "stream",
     "text": [
      "training and predict time: 142.118 s\n",
      "accuracy of the dataset: 0.990898748578\n"
     ]
    }
   ],
   "source": [
    "# use linear kernel for svm model on which we'll train\n",
    "clf = svm.SVC(kernel=\"linear\",C=10)\n",
    "\n",
    "# note time\n",
    "tt0 = time()\n",
    "\n",
    "# train model\n",
    "clf.fit(features_train,labels_train)\n",
    "\n",
    "# make prediction\n",
    "# clf.predict(features_test)\n",
    "\n",
    "print \"training and predict time:\", round(time()-tt0, 3), \"s\"\n",
    "print \"accuracy of the dataset:\", clf.score(features_test,labels_test)"
   ]
  },
  {
   "cell_type": "code",
   "execution_count": 7,
   "metadata": {},
   "outputs": [
    {
     "name": "stdout",
     "output_type": "stream",
     "text": [
      "training and predict time: 0.095 s\n",
      "accuracy of the dataset: 0.854948805461\n"
     ]
    }
   ],
   "source": [
    "# to train on smaller sets we reduce the dataset size\n",
    "features_train = features_train[:len(features_train)/100] \n",
    "labels_train = labels_train[:len(labels_train)/100] \n",
    "# note time\n",
    "tt0 = time()\n",
    "\n",
    "# train model\n",
    "clf.fit(features_train,labels_train)\n",
    "\n",
    "# make prediction\n",
    "clf.predict(features_test)\n",
    "\n",
    "print \"training and predict time:\", round(time()-tt0, 3), \"s\"\n",
    "print \"accuracy of the dataset:\", clf.score(features_test,labels_test)"
   ]
  },
  {
   "cell_type": "code",
   "execution_count": null,
   "metadata": {
    "collapsed": true
   },
   "outputs": [],
   "source": []
  }
 ],
 "metadata": {
  "kernelspec": {
   "display_name": "Python 2",
   "language": "python",
   "name": "python2"
  },
  "language_info": {
   "codemirror_mode": {
    "name": "ipython",
    "version": 2
   },
   "file_extension": ".py",
   "mimetype": "text/x-python",
   "name": "python",
   "nbconvert_exporter": "python",
   "pygments_lexer": "ipython2",
   "version": "2.7.13"
  }
 },
 "nbformat": 4,
 "nbformat_minor": 2
}

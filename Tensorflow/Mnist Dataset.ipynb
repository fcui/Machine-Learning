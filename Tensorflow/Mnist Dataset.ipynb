{
 "cells": [
  {
   "cell_type": "code",
   "execution_count": 2,
   "metadata": {},
   "outputs": [
    {
     "name": "stdout",
     "output_type": "stream",
     "text": [
      "Successfully downloaded train-images-idx3-ubyte.gz 9912422 bytes.\n",
      "Extracting /tmp/data/train-images-idx3-ubyte.gz\n",
      "Successfully downloaded train-labels-idx1-ubyte.gz 28881 bytes.\n",
      "Extracting /tmp/data/train-labels-idx1-ubyte.gz\n",
      "Successfully downloaded t10k-images-idx3-ubyte.gz 1648877 bytes.\n",
      "Extracting /tmp/data/t10k-images-idx3-ubyte.gz\n",
      "Successfully downloaded t10k-labels-idx1-ubyte.gz 4542 bytes.\n",
      "Extracting /tmp/data/t10k-labels-idx1-ubyte.gz\n"
     ]
    }
   ],
   "source": [
    "#import and read data\n",
    "import tensorflow as tf\n",
    "from tensorflow.examples.tutorials.mnist import input_data \n",
    "\n",
    "mnist = input_data.read_data_sets(\"/tmp/data\",one_hot=True)"
   ]
  },
  {
   "cell_type": "code",
   "execution_count": null,
   "metadata": {
    "collapsed": true
   },
   "outputs": [],
   "source": [
    "input_layer = tf.placeholder('float',[None,786])\n",
    "\n",
    "# hidden layers 1,2,3 with 500 neurons each\n",
    "hl1_neurons = 500\n",
    "hl2_neurons = 500\n",
    "hl3_neurons = 500\n",
    "\n",
    "# the number of output layers\n",
    "n_classes = 10\n",
    "\n",
    "# take 100 samples and train than the next 100 samples and so on\n",
    "batch_size = 100\n",
    "\n",
    "\n",
    "def draw_network_graph(data):\n",
    "\n",
    "    hl1_weights_biases = {\n",
    "                            'weights': tf.Variable(tf.random_normal([786,hl1_neurons])),\n",
    "                            'biases': tf.Variable(tf.random_normal(hl1_neurons))\n",
    "                         }\n",
    "\n",
    "    hl2_weights_biases = {\n",
    "                            'weights': tf.Variable(tf.random_normal([hl1_neurons,hl2_neurons])), \n",
    "                            'biases': tf.Variable(tf.random_normal(hl2_neurons))\n",
    "                         }\n",
    "    \n",
    "    hl3_weights_biases = {\n",
    "                            'weights': tf.Variable(tf.random_normal([hl2_neurons,hl3_neurons])), \n",
    "                            'biases': tf.Variable(tf.random_normal(hl3_neurons))\n",
    "                         }\n",
    "\n",
    "    output_weights_biases = {\n",
    "                                'weights': tf.Variable(tf.random_normal([hl3_weights_biases,n_classes])), \n",
    "                                'biases': tf.Variable(tf.random_normal(n_classes))\n",
    "                            }\n",
    "    \n",
    "    l1 = tf.add(tf.matmul(data,hl1_weights_biases['weights']) + hl1_weights_biases['biases'])\n",
    "    l2 = tf.add(tf.matmul(data,hl1_weights_biases['weights']) + hl1_weights_biases['biases'])\n",
    "    l3 = tf.add(tf.matmul(data,hl1_weights_biases['weights']) + hl1_weights_biases['biases'])\n"
   ]
  }
 ],
 "metadata": {
  "kernelspec": {
   "display_name": "Python 3",
   "language": "python",
   "name": "python3"
  },
  "language_info": {
   "codemirror_mode": {
    "name": "ipython",
    "version": 3
   },
   "file_extension": ".py",
   "mimetype": "text/x-python",
   "name": "python",
   "nbconvert_exporter": "python",
   "pygments_lexer": "ipython3",
   "version": "3.6.1"
  }
 },
 "nbformat": 4,
 "nbformat_minor": 2
}

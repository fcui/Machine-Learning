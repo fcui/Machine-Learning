{
 "cells": [
  {
   "cell_type": "code",
   "execution_count": 68,
   "metadata": {},
   "outputs": [
    {
     "name": "stdout",
     "output_type": "stream",
     "text": [
      "(8,)\n",
      "[ 0.00926444  0.00990444  0.01013333  0.01002889  0.01003778  0.01027778\n",
      "  0.01012667  0.01024444]\n"
     ]
    }
   ],
   "source": [
    "import tensorflow as tf\n",
    "import numpy as np\n",
    "\n",
    "\n",
    "# load file\n",
    "result = np.loadtxt(open(\"../../dataset_small.csv\", \"rb\"), delimiter=\",\", skiprows=1)\n",
    "print(result[:,3].shape)\n",
    "print(result[:,3])"
   ]
  },
  {
   "cell_type": "code",
   "execution_count": 89,
   "metadata": {
    "scrolled": true
   },
   "outputs": [],
   "source": [
    "\n",
    "input_neurons = 3\n",
    "hl1_neuron = 10\n",
    "output_neurons = 1\n",
    "\n",
    "x = tf.placeholder(tf.float32, [None,input_neurons])\n",
    "y = tf.placeholder(tf.float32,[None,output_neurons])\n",
    "\n",
    "\n",
    "\n",
    "hidden_weights_biases = { \"weights\": tf.Variable(tf.random_normal([input_neurons,hl1_neuron])) , \n",
    "                         \"biases\": tf.Variable(tf.random_normal([hl1_neuron]))}\n",
    "\n",
    "output_weights_biases =  { \"weights\": tf.Variable(tf.random_normal([hl1_neuron,output_neurons])) , \n",
    "                         \"biases\": tf.Variable(tf.random_normal([output_neurons]))}\n",
    "\n",
    "l1 = tf.add(tf.matmul(x,hidden_weights_biases[\"weights\"]), hidden_weights_biases[\"biases\"])\n",
    "l1 = tf.nn.relu(l1)\n",
    "\n",
    "prediction = tf.add(tf.matmul(l1,output_weights_biases[\"weights\"]), output_weights_biases[\"biases\"])\n",
    "\n",
    "cross_entropy = tf.reduce_mean(tf.nn.softmax_cross_entropy_with_logits(labels=y, logits=prediction))\n",
    "train_step = tf.train.AdamOptimizer().minimize(cross_entropy)\n",
    "\n",
    "sess = tf.InteractiveSession()\n",
    "tf.global_variables_initializer().run()\n",
    "batch_xs = result[:,:3]\n",
    "batch_ys = result[:,3].reshape(8,1)\n",
    "_,c = sess.run([train_step,cross_entropy], feed_dict={x: batch_xs, y: batch_ys})\n",
    "\n",
    "correct_prediction = tf.equal(tf.argmax(prediction, 1), tf.argmax(y, 1))\n",
    "accuracy = tf.reduce_mean(tf.cast(correct_prediction, tf.float32))\n",
    "print(sess.run(accuracy, feed_dict={x: mnist.test.images, y: mnist.test.labels}))\n"
   ]
  },
  {
   "cell_type": "code",
   "execution_count": null,
   "metadata": {
    "collapsed": true
   },
   "outputs": [],
   "source": []
  },
  {
   "cell_type": "code",
   "execution_count": null,
   "metadata": {
    "collapsed": true
   },
   "outputs": [],
   "source": []
  }
 ],
 "metadata": {
  "kernelspec": {
   "display_name": "Python 3",
   "language": "python",
   "name": "python3"
  },
  "language_info": {
   "codemirror_mode": {
    "name": "ipython",
    "version": 3
   },
   "file_extension": ".py",
   "mimetype": "text/x-python",
   "name": "python",
   "nbconvert_exporter": "python",
   "pygments_lexer": "ipython3",
   "version": "3.6.1"
  }
 },
 "nbformat": 4,
 "nbformat_minor": 2
}
